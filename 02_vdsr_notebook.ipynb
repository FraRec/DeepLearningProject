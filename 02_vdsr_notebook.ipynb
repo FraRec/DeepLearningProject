{
  "cells": [
    {
      "cell_type": "markdown",
      "metadata": {
        "id": "pKjkelmWm_Go"
      },
      "source": [
        "# **Imports & Iperparameters**"
      ]
    },
    {
      "cell_type": "code",
      "execution_count": null,
      "metadata": {
        "id": "qUyL2x6tBuou"
      },
      "outputs": [],
      "source": [
        "import os\n",
        "import cv2\n",
        "import tf_keras\n",
        "import pathlib\n",
        "import patoolib\n",
        "import numpy as np\n",
        "import tensorflow as tf\n",
        "import matplotlib.pyplot as plt\n",
        "\n",
        "import main.utilities.utils as us\n",
        "import main.models.II_VDSR.architectures.architectures_vdsr as arcs\n",
        "\n",
        "from tqdm import tqdm\n",
        "from glob import glob\n",
        "from tf_keras.layers import *\n",
        "from tf_keras.optimizers import *\n",
        "from tf_keras.utils import plot_model\n",
        "from tf_keras.preprocessing.image import *\n",
        "from tf_keras.preprocessing import  image_dataset_from_directory"
      ]
    },
    {
      "cell_type": "markdown",
      "metadata": {
        "id": "CLspbj2PEM6d"
      },
      "source": [
        "**Iperparametri** \\\n",
        "Questi sono gli Iperparametri che possiamo decidere noi"
      ]
    },
    {
      "cell_type": "code",
      "execution_count": null,
      "metadata": {
        "id": "dnCNEwEsEPnF"
      },
      "outputs": [],
      "source": [
        "# SuperRes\n",
        "BATCH_SIZE  = 256\n",
        "SCALE       = 2.0\n",
        "\n",
        "# DataSet\n",
        "INPUT_DIM   = 32\n",
        "LABEL_SIZE  = 64\n",
        "STRIDE      = 14\n",
        "PAD         = 0\n",
        "\n",
        "# Model\n",
        "EPOCHS = 10\n",
        "\n",
        "# Random Seed\n",
        "SEED        = 42\n",
        "tf.random.set_seed(SEED)"
      ]
    },
    {
      "cell_type": "markdown",
      "metadata": {
        "id": "WM0zGWjEFanI"
      },
      "source": [
        "# **Load Data**"
      ]
    },
    {
      "cell_type": "code",
      "execution_count": null,
      "metadata": {},
      "outputs": [],
      "source": [
        "# Come prima cosa definiamo il percorso base di questo file\n",
        "current_path = (os.path.dirname(os.path.realpath(os.getcwd())) + \"\\\\\" + os.path.basename(os.getcwd()))\n",
        "current_path"
      ]
    },
    {
      "cell_type": "code",
      "execution_count": null,
      "metadata": {},
      "outputs": [],
      "source": [
        "# Estraiamo i Dati dall'archivio nella cartella \".\\data\\VDSR_Dataset_TrainTest\"\n",
        "data_zip_path = current_path + \"\\images\\VDSR_Dataset_TrainTest.rar\"\n",
        "data_imgs_path = patoolib.extract_archive(data_zip_path, outdir=(current_path + \"\\\\images\"))"
      ]
    },
    {
      "cell_type": "code",
      "execution_count": null,
      "metadata": {},
      "outputs": [],
      "source": [
        "# Definiamo una lista contenente i percorsi di ogni immagine\n",
        "\n",
        "# Train\n",
        "train_data_imgs_path = (current_path + \"\\\\images\\\\train_data\\\\291\")\n",
        "file_train_pattern = (pathlib.Path(train_data_imgs_path) / \"*\")\n",
        "file_train_pattern = str(file_train_pattern)\n",
        "dataset_train_paths = [*glob(file_train_pattern)]\n",
        "print(\"number of images:\", len(dataset_train_paths))"
      ]
    },
    {
      "cell_type": "markdown",
      "metadata": {},
      "source": [
        "**Visualize the Data**"
      ]
    },
    {
      "cell_type": "code",
      "execution_count": null,
      "metadata": {
        "id": "OXJKGfO4Unbd"
      },
      "outputs": [],
      "source": [
        "img = plt.imread(np.random.choice(dataset_train_paths))\n",
        "plt.imshow(img)\n",
        "plt.axis(\"off\")\n",
        "print(img_to_array(img).shape)"
      ]
    },
    {
      "cell_type": "markdown",
      "metadata": {
        "id": "aXQ4umPKHHc5"
      },
      "source": [
        "# **Create Augmented Data**"
      ]
    },
    {
      "cell_type": "code",
      "execution_count": null,
      "metadata": {},
      "outputs": [],
      "source": [
        "# Definiamo i percorsi delle Immagini che formeranno il Dataset\n",
        "train_dir_lr = current_path + \"\\\\data\\\\train\\\\lr\"\n",
        "train_dir_hr = current_path + \"\\\\data\\\\train\\\\hr\"\n",
        "train_dir_lr, train_dir_hr"
      ]
    },
    {
      "cell_type": "code",
      "execution_count": null,
      "metadata": {
        "id": "kBWqbkzGbLHs"
      },
      "outputs": [],
      "source": [
        "# TRAIN\n",
        "for image_path in tqdm(dataset_train_paths):\n",
        "  filename = pathlib.Path(image_path).stem\n",
        "  image = load_img(image_path)\n",
        "  image = img_to_array(image)\n",
        "  image = image.astype(np.uint8)\n",
        "  image = us.tight_crop_image(image, SCALE)\n",
        "\n",
        "  height, width = image.shape[:2]\n",
        "  for y in range(0, height - INPUT_DIM + 1, STRIDE):\n",
        "    for x in range(0, width - INPUT_DIM + 1, STRIDE):\n",
        "      output = us.crop_output(image, x, y, PAD, LABEL_SIZE)  # High Res\n",
        "      input = us.resize_image(output, 1.0/SCALE)             # Low Res\n",
        "      cv2.imwrite(f\"/content/data/train/lr/{filename}_{x}_{y}_input.png\", cv2.cvtColor(input, cv2.COLOR_BGR2RGB))\n",
        "      cv2.imwrite(f\"/content/data/train/hr/{filename}_{x}_{y}_output.png\", cv2.cvtColor(output, cv2.COLOR_BGR2RGB))"
      ]
    },
    {
      "cell_type": "markdown",
      "metadata": {
        "id": "LSsVtoWScJIh"
      },
      "source": [
        "# **Create Dataset**"
      ]
    },
    {
      "cell_type": "code",
      "execution_count": null,
      "metadata": {
        "id": "tAEkAPBCw44b"
      },
      "outputs": [],
      "source": [
        "# Train Set\n",
        "train_data_lr = image_dataset_from_directory(\n",
        "    directory=train_dir_lr,\n",
        "    labels=None,\n",
        "    label_mode=None,\n",
        "    image_size=(INPUT_DIM, INPUT_DIM),\n",
        "    interpolation=\"bilinear\",\n",
        "    batch_size=BATCH_SIZE,\n",
        "    seed=42\n",
        ")\n",
        "\n",
        "train_data_hr = image_dataset_from_directory(\n",
        "    directory=train_dir_hr,\n",
        "    labels=None,\n",
        "    label_mode=None,\n",
        "    image_size=(LABEL_SIZE, LABEL_SIZE),\n",
        "    interpolation=\"bilinear\",\n",
        "    batch_size=BATCH_SIZE,\n",
        "    seed=42\n",
        ")\n",
        "\n",
        "ds_train = tf.data.Dataset.zip(train_data_lr, train_data_hr)"
      ]
    },
    {
      "cell_type": "markdown",
      "metadata": {
        "id": "QSWi0mcKdXZN"
      },
      "source": [
        "**Visualize the Data**"
      ]
    },
    {
      "cell_type": "code",
      "execution_count": null,
      "metadata": {
        "id": "26XVlGPm4ONM"
      },
      "outputs": [],
      "source": [
        "# Define the iterators\n",
        "i_train = ds_train.as_numpy_iterator();"
      ]
    },
    {
      "cell_type": "code",
      "execution_count": null,
      "metadata": {
        "collapsed": true,
        "id": "-_OsrgvY3rxv"
      },
      "outputs": [],
      "source": [
        "# Plot Train Sample\n",
        "sample_train = i_train.next()\n",
        "us.plot_images([tf.cast(sample_train[1][255], tf.uint8), tf.cast(sample_train[0][255], tf.uint8)]) # HR, LR"
      ]
    },
    {
      "cell_type": "markdown",
      "metadata": {},
      "source": [
        "# **Preprocess Data**"
      ]
    },
    {
      "cell_type": "markdown",
      "metadata": {},
      "source": [
        "Qui mettiamo tutte le operazioni di perprocessamento dei Dati.\\\n",
        "Quando vorremo addestrare la rete potremo decidere quale di queste effettuare e quale no."
      ]
    },
    {
      "cell_type": "code",
      "execution_count": null,
      "metadata": {},
      "outputs": [],
      "source": [
        "# Normalize\n",
        "ds_train = ds_train.map(us.normalizer)"
      ]
    },
    {
      "cell_type": "markdown",
      "metadata": {
        "id": "E9vFgZ55A2DK"
      },
      "source": [
        "# **Model**"
      ]
    },
    {
      "cell_type": "markdown",
      "metadata": {
        "id": "alZRS7pWU9vl"
      },
      "source": [
        "**1. Create the Model**"
      ]
    },
    {
      "cell_type": "code",
      "execution_count": null,
      "metadata": {},
      "outputs": [],
      "source": [
        "# Choose which model to use\n",
        "model = arcs.VDSR_Vanilla((INPUT_DIM, INPUT_DIM, 3), 10, LABEL_SIZE=LABEL_SIZE)\n",
        "model._name = (\"VDSR_Vanilla_fit10\")"
      ]
    },
    {
      "cell_type": "markdown",
      "metadata": {
        "id": "NhBetcS5em1T"
      },
      "source": [
        "**2. Compile the Model**"
      ]
    },
    {
      "cell_type": "code",
      "execution_count": null,
      "metadata": {
        "id": "_cHaNJYSCF31"
      },
      "outputs": [],
      "source": [
        "# Scegliamo quale Loss e quale Optimizer assegnare al Modello\n",
        "\n",
        "my_loss = tf_keras.losses.mean_squared_error;\n",
        "my_opt = tf_keras.optimizers.Adam(learning_rate=0.0001);\n",
        "\n",
        "model.compile(\n",
        "  loss=my_loss,\n",
        "  optimizer=my_opt,\n",
        "  metrics=[us.PSNR_metric, us.SSIM_metric]\n",
        ")"
      ]
    },
    {
      "cell_type": "code",
      "execution_count": null,
      "metadata": {},
      "outputs": [],
      "source": [
        "# Eseguiamo il Plot del Modello\n",
        "model.summary()\n",
        "plot_model(model, show_shapes=True, rankdir=\"LR\")"
      ]
    },
    {
      "cell_type": "markdown",
      "metadata": {},
      "source": [
        "**3. Fit the Model**"
      ]
    },
    {
      "cell_type": "code",
      "execution_count": null,
      "metadata": {},
      "outputs": [],
      "source": [
        "# Define TensorBoard Callbacks\n",
        "tb_callback = tf_keras.callbacks.TensorBoard(log_dir=(\"logs/\" + str(model._name)), histogram_freq=1)"
      ]
    },
    {
      "cell_type": "code",
      "execution_count": null,
      "metadata": {},
      "outputs": [],
      "source": [
        "# Fit\n",
        "model.fit(ds_train, epochs=EPOCHS, callbacks=[tb_callback])"
      ]
    },
    {
      "cell_type": "markdown",
      "metadata": {},
      "source": [
        "# **References**"
      ]
    },
    {
      "cell_type": "markdown",
      "metadata": {},
      "source": [
        "[1] Review: VDSR (Super Resolution) - \"https://towardsdatascience.com/review-vdsr-super-resolution-f8050d49362f\"\n",
        "[2] Accurate Image Super-Resolution Using Very Deep Convolutional Networks - \"https://franciscofarinha.ca/post/vdsr_paper/\"\n",
        "[3] VDSR-Keras - \"https://github.com/GeorgeSeif/VDSR-Keras/blob/master/test_vdsr.py\""
      ]
    }
  ],
  "metadata": {
    "colab": {
      "collapsed_sections": [
        "pKjkelmWm_Go",
        "WM0zGWjEFanI",
        "aXQ4umPKHHc5",
        "1Wc2qeHaepTx"
      ],
      "provenance": []
    },
    "kernelspec": {
      "display_name": "Python 3",
      "name": "python3"
    },
    "language_info": {
      "codemirror_mode": {
        "name": "ipython",
        "version": 3
      },
      "file_extension": ".py",
      "mimetype": "text/x-python",
      "name": "python",
      "nbconvert_exporter": "python",
      "pygments_lexer": "ipython3",
      "version": "3.10.4"
    }
  },
  "nbformat": 4,
  "nbformat_minor": 0
}
